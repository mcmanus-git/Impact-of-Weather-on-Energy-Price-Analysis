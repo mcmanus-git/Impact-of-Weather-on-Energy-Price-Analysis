{
 "cells": [
  {
   "cell_type": "code",
   "execution_count": 1,
   "id": "07625be2",
   "metadata": {},
   "outputs": [],
   "source": [
    "import pandas as pd\n",
    "import os"
   ]
  },
  {
   "cell_type": "code",
   "execution_count": 2,
   "id": "5117ed42",
   "metadata": {},
   "outputs": [
    {
     "data": {
      "text/plain": [
       "['20131231_dfal_hist.xls',\n",
       " '20141231_dfal_hist.xls',\n",
       " '20151231_dfal_hist.xls',\n",
       " '20161231_dfal_hist.xls',\n",
       " '20171231_dfal_HIST.xls',\n",
       " '20181231_dfal_HIST.xls',\n",
       " '20191231_dfal_HIST.xls',\n",
       " '20200526_dfal_HIST.xls',\n",
       " '20201231_dfal_HIST.xls',\n",
       " '20210502_dfal_HIST.xls']"
      ]
     },
     "execution_count": 2,
     "metadata": {},
     "output_type": "execute_result"
    }
   ],
   "source": [
    "fpath = r\"../raw_data/raw_load/\"\n",
    "os.listdir(fpath)"
   ]
  },
  {
   "cell_type": "code",
   "execution_count": 3,
   "id": "a63020b1",
   "metadata": {},
   "outputs": [],
   "source": [
    "def transform_load_csv(filepath):\n",
    "    \n",
    "    locales = pd.read_excel(f\"{fpath}{file}\", skiprows=5, skipfooter=2)\n",
    "    locales = locales.where(locales['LoadResource Zone'].str.contains('7') | locales['LoadResource Zone'].str.contains('9') | locales['LoadResource Zone'].str.contains('MISO')).dropna()\n",
    "    locales['HourEnding'] = locales['HourEnding'].astype('timedelta64[h]')\n",
    "    locales['time'] = locales['HourEnding'] + pd.to_datetime(locales['MarketDay'])\n",
    "    locales = locales.set_index('time').drop(['MarketDay', 'HourEnding'], axis=1).reset_index()\n",
    "    locales = locales.pivot(index='time', columns='LoadResource Zone', values=['MTLF (MWh)', 'ActualLoad (MWh)'])\n",
    "    locales.columns = locales.columns.to_series().str.join('_')\n",
    "    locales.reset_index(inplace=True)\n",
    "    \n",
    "    return locales"
   ]
  },
  {
   "cell_type": "code",
   "execution_count": 4,
   "id": "b2470d03",
   "metadata": {},
   "outputs": [],
   "source": [
    "loads = pd.DataFrame()\n",
    "\n",
    "for file in os.listdir(fpath):\n",
    "    df = transform_load_csv(fpath)\n",
    "    loads = loads.append(df)\n"
   ]
  },
  {
   "cell_type": "code",
   "execution_count": 5,
   "id": "4e932f82",
   "metadata": {},
   "outputs": [],
   "source": [
    "def transform_load_data(df):\n",
    "    loads.reset_index(inplace=True, drop=True)\n",
    "\n",
    "\n",
    "    loads['LA_load_forecast'] = loads['MTLF (MWh)_LRZ8_9'].fillna(loads['MTLF (MWh)_LRZ8_9_10'])\n",
    "    loads['LA_load_actual'] = loads['ActualLoad (MWh)_LRZ8_9'].fillna(loads['ActualLoad (MWh)_LRZ8_9_10'])\n",
    "\n",
    "\n",
    "    loads.drop(['MTLF (MWh)_LRZ8_9', 'MTLF (MWh)_LRZ8_9_10', 'ActualLoad (MWh)_LRZ8_9', 'ActualLoad (MWh)_LRZ8_9_10'], \n",
    "              axis=1, inplace=True)\n",
    "    loads.rename({\n",
    "        'MTLF (MWh)_LRZ2_7': 'MI_load_forecast',\n",
    "        'MTLF (MWh)_MISO': 'MISO_load_forecast',\n",
    "        'ActualLoad (MWh)_LRZ2_7': 'MI_load_actual',\n",
    "        'ActualLoad (MWh)_MISO': 'MISO_load_actual'},\n",
    "        axis=1,\n",
    "        inplace=True\n",
    "    )\n",
    "    \n",
    "    return loads\n"
   ]
  },
  {
   "cell_type": "code",
   "execution_count": 6,
   "id": "31bf1121",
   "metadata": {},
   "outputs": [],
   "source": [
    "loads = transform_load_data(loads)"
   ]
  },
  {
   "cell_type": "code",
   "execution_count": 7,
   "id": "587f1bdb",
   "metadata": {},
   "outputs": [],
   "source": [
    "loads.to_csv(r\"../data/load/load.csv\", index=False)"
   ]
  },
  {
   "cell_type": "code",
   "execution_count": null,
   "id": "9551a2f2",
   "metadata": {},
   "outputs": [],
   "source": []
  }
 ],
 "metadata": {
  "kernelspec": {
   "display_name": "Python 3",
   "language": "python",
   "name": "python3"
  },
  "language_info": {
   "codemirror_mode": {
    "name": "ipython",
    "version": 3
   },
   "file_extension": ".py",
   "mimetype": "text/x-python",
   "name": "python",
   "nbconvert_exporter": "python",
   "pygments_lexer": "ipython3",
   "version": "3.8.8"
  }
 },
 "nbformat": 4,
 "nbformat_minor": 5
}
