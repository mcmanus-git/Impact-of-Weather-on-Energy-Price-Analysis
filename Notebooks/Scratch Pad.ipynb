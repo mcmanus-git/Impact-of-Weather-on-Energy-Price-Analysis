{
 "cells": [
  {
   "cell_type": "code",
   "execution_count": 1,
   "id": "8272bded",
   "metadata": {},
   "outputs": [],
   "source": [
    "import os"
   ]
  },
  {
   "cell_type": "code",
   "execution_count": 2,
   "id": "daad21f3",
   "metadata": {},
   "outputs": [
    {
     "data": {
      "text/plain": [
       "['.ipynb_checkpoints',\n",
       " 'Concatenate and Transform Raw LMP Data.ipynb',\n",
       " 'Concatenate and Transform Raw Load Data.ipynb',\n",
       " 'Scratch Pad.ipynb']"
      ]
     },
     "execution_count": 2,
     "metadata": {},
     "output_type": "execute_result"
    }
   ],
   "source": [
    "os.listdir()"
   ]
  },
  {
   "cell_type": "code",
   "execution_count": 3,
   "id": "4ad0d6e3",
   "metadata": {},
   "outputs": [],
   "source": [
    "fpath = r\"C:\\Users\\melan\\Google Drive\\Mike's Documents\\School\\University of Michigan\\2021\\May\\SIADS 592 Milestone IB\\raw_data\\raw_lmp\\\\\""
   ]
  },
  {
   "cell_type": "code",
   "execution_count": 4,
   "id": "008b2a4a",
   "metadata": {},
   "outputs": [
    {
     "data": {
      "text/plain": [
       "'..'"
      ]
     },
     "execution_count": 4,
     "metadata": {},
     "output_type": "execute_result"
    }
   ],
   "source": [
    "os.path.pardir"
   ]
  },
  {
   "cell_type": "code",
   "execution_count": 6,
   "id": "a398c5e0",
   "metadata": {},
   "outputs": [
    {
     "data": {
      "text/plain": [
       "'..\\\\raw_data\\raw_lmp\\\\'"
      ]
     },
     "execution_count": 6,
     "metadata": {},
     "output_type": "execute_result"
    }
   ],
   "source": [
    "os.path.join(os.path.pardir, 'raw_data\\raw_lmp\\\\')"
   ]
  },
  {
   "cell_type": "code",
   "execution_count": 9,
   "id": "84112b82",
   "metadata": {},
   "outputs": [
    {
     "data": {
      "text/plain": [
       "['Day-Ahead Market ExPost LMPs',\n",
       " 'Historical Annual Day-Ahead LMPs',\n",
       " 'Historical Annual Real-Time LMPs',\n",
       " 'Real-Time Final Market LMPs',\n",
       " 'Weekly Real-Time 5-Min LMP']"
      ]
     },
     "execution_count": 9,
     "metadata": {},
     "output_type": "execute_result"
    }
   ],
   "source": [
    "os.listdir(os.path.join(os.path.pardir, 'raw_data\\\\raw_lmp\\\\'))"
   ]
  },
  {
   "cell_type": "code",
   "execution_count": 8,
   "id": "ea66bc29",
   "metadata": {},
   "outputs": [
    {
     "data": {
      "text/plain": [
       "['data', 'Notebooks', 'raw_data']"
      ]
     },
     "execution_count": 8,
     "metadata": {},
     "output_type": "execute_result"
    }
   ],
   "source": [
    "os.listdir(os.path.pardir)"
   ]
  },
  {
   "cell_type": "code",
   "execution_count": null,
   "id": "395e7ca9",
   "metadata": {},
   "outputs": [],
   "source": []
  }
 ],
 "metadata": {
  "kernelspec": {
   "display_name": "Python 3",
   "language": "python",
   "name": "python3"
  },
  "language_info": {
   "codemirror_mode": {
    "name": "ipython",
    "version": 3
   },
   "file_extension": ".py",
   "mimetype": "text/x-python",
   "name": "python",
   "nbconvert_exporter": "python",
   "pygments_lexer": "ipython3",
   "version": "3.8.8"
  }
 },
 "nbformat": 4,
 "nbformat_minor": 5
}
