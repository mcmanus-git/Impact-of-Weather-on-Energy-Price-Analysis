{
 "cells": [
  {
   "cell_type": "code",
   "execution_count": 1,
   "id": "61f766b8",
   "metadata": {},
   "outputs": [],
   "source": [
    "import cdsapi"
   ]
  },
  {
   "cell_type": "code",
   "execution_count": 2,
   "id": "78f13253",
   "metadata": {},
   "outputs": [],
   "source": [
    "def get_weather_data(year, month, day, weather_vars, area, time, file_location = 'weather_data.nc'):\n",
    "    c = cdsapi.Client() \n",
    "    c.retrieve(\n",
    "        'reanalysis-era5-single-levels',{\n",
    "            'product_type':'reanalysis', # This is the dataset produced by the CDS\n",
    "            'variable': weather_vars,\n",
    "            'year': year,\n",
    "            'month': month,\n",
    "            'day': day,\n",
    "            'area': area,\n",
    "            'time': time,\n",
    "            'format':'netcdf' # The format we choose to use\n",
    "        },\n",
    "        file_location)\n",
    "    return(file_location)"
   ]
  },
  {
   "cell_type": "code",
   "execution_count": 3,
   "id": "60f2d331",
   "metadata": {},
   "outputs": [],
   "source": [
    "years = [['2013', '2014'], ['2015', '2016'], ['2017', '2018'], ['2019', '2020'], ['2021']]\n",
    "\n",
    "locations = {'nola': {'latitude': '29.9511', 'longitude': '-90.0715', \n",
    "                      'files': ['2013_2014_NOLA.nc', '2015_2016_NOLA.nc',\n",
    "                                '2017_2018_NOLA.nc', '2019_2020_NOLA.nc',\n",
    "                                '2021_NOLA.nc'\n",
    "                               ]}, \n",
    "             'shla': {'latitude': '32.5252', 'longitude': '-93.7502', \n",
    "                      'files': ['2013_2014_SHLA.nc', '2015_2016_SHLA.nc',\n",
    "                                '2017_2018_SHLA.nc', '2019_2020_SHLA.nc',\n",
    "                                '2021_SHLA.nc'\n",
    "                               ]},\n",
    "             'lcla': {'latitude': '30.2266', 'longitude': '-93.2174', \n",
    "                      'files': ['2013_2014_LCLA.nc', '2015_2016_LCLA.nc',\n",
    "                                '2017_2018_LCLA.nc', '2019_2020_LCLA.nc',\n",
    "                                '2021_LCLA.nc'\n",
    "                               ]}\n",
    "            }"
   ]
  },
  {
   "cell_type": "code",
   "execution_count": 4,
   "id": "5a8cda97",
   "metadata": {},
   "outputs": [
    {
     "name": "stdout",
     "output_type": "stream",
     "text": [
      "['2013', '2014']\n",
      "Location: nola  Lat: 29.9511  Long: -90.0715\n",
      "File: 2013_2014_NOLA.nc\n"
     ]
    },
    {
     "name": "stderr",
     "output_type": "stream",
     "text": [
      "2021-05-23 13:22:42,325 INFO Welcome to the CDS\n",
      "2021-05-23 13:22:42,325 INFO Sending request to https://cds.climate.copernicus.eu/api/v2/resources/reanalysis-era5-single-levels\n",
      "2021-05-23 13:22:42,466 INFO Request is queued\n",
      "2021-05-23 13:22:43,593 INFO Request is running\n"
     ]
    },
    {
     "ename": "KeyboardInterrupt",
     "evalue": "",
     "output_type": "error",
     "traceback": [
      "\u001b[1;31m---------------------------------------------------------------------------\u001b[0m",
      "\u001b[1;31mKeyboardInterrupt\u001b[0m                         Traceback (most recent call last)",
      "\u001b[1;32m<ipython-input-4-562e26a65203>\u001b[0m in \u001b[0;36m<module>\u001b[1;34m\u001b[0m\n\u001b[0;32m      8\u001b[0m         \u001b[0mprint\u001b[0m\u001b[1;33m(\u001b[0m\u001b[1;34mf\"Location: {location}  Lat: {latitude}  Long: {longitude}\\nFile: {file}\"\u001b[0m\u001b[1;33m)\u001b[0m\u001b[1;33m\u001b[0m\u001b[1;33m\u001b[0m\u001b[0m\n\u001b[0;32m      9\u001b[0m \u001b[1;33m\u001b[0m\u001b[0m\n\u001b[1;32m---> 10\u001b[1;33m         file_location = get_weather_data(\n\u001b[0m\u001b[0;32m     11\u001b[0m             \u001b[0myear\u001b[0m\u001b[1;33m,\u001b[0m\u001b[1;33m\u001b[0m\u001b[1;33m\u001b[0m\u001b[0m\n\u001b[0;32m     12\u001b[0m             \u001b[1;31m# NB: Single digits days or months must have 0s in front or that will cause an error\u001b[0m\u001b[1;33m\u001b[0m\u001b[1;33m\u001b[0m\u001b[1;33m\u001b[0m\u001b[0m\n",
      "\u001b[1;32m<ipython-input-2-f796f9da340f>\u001b[0m in \u001b[0;36mget_weather_data\u001b[1;34m(year, month, day, weather_vars, area, time, file_location)\u001b[0m\n\u001b[0;32m      1\u001b[0m \u001b[1;32mdef\u001b[0m \u001b[0mget_weather_data\u001b[0m\u001b[1;33m(\u001b[0m\u001b[0myear\u001b[0m\u001b[1;33m,\u001b[0m \u001b[0mmonth\u001b[0m\u001b[1;33m,\u001b[0m \u001b[0mday\u001b[0m\u001b[1;33m,\u001b[0m \u001b[0mweather_vars\u001b[0m\u001b[1;33m,\u001b[0m \u001b[0marea\u001b[0m\u001b[1;33m,\u001b[0m \u001b[0mtime\u001b[0m\u001b[1;33m,\u001b[0m \u001b[0mfile_location\u001b[0m \u001b[1;33m=\u001b[0m \u001b[1;34m'weather_data.nc'\u001b[0m\u001b[1;33m)\u001b[0m\u001b[1;33m:\u001b[0m\u001b[1;33m\u001b[0m\u001b[1;33m\u001b[0m\u001b[0m\n\u001b[0;32m      2\u001b[0m     \u001b[0mc\u001b[0m \u001b[1;33m=\u001b[0m \u001b[0mcdsapi\u001b[0m\u001b[1;33m.\u001b[0m\u001b[0mClient\u001b[0m\u001b[1;33m(\u001b[0m\u001b[1;33m)\u001b[0m\u001b[1;33m\u001b[0m\u001b[1;33m\u001b[0m\u001b[0m\n\u001b[1;32m----> 3\u001b[1;33m     c.retrieve(\n\u001b[0m\u001b[0;32m      4\u001b[0m         'reanalysis-era5-single-levels',{\n\u001b[0;32m      5\u001b[0m             \u001b[1;34m'product_type'\u001b[0m\u001b[1;33m:\u001b[0m\u001b[1;34m'reanalysis'\u001b[0m\u001b[1;33m,\u001b[0m \u001b[1;31m# This is the dataset produced by the CDS\u001b[0m\u001b[1;33m\u001b[0m\u001b[1;33m\u001b[0m\u001b[0m\n",
      "\u001b[1;32m~\\Anaconda3\\lib\\site-packages\\cdsapi\\api.py\u001b[0m in \u001b[0;36mretrieve\u001b[1;34m(self, name, request, target)\u001b[0m\n\u001b[0;32m    346\u001b[0m \u001b[1;33m\u001b[0m\u001b[0m\n\u001b[0;32m    347\u001b[0m     \u001b[1;32mdef\u001b[0m \u001b[0mretrieve\u001b[0m\u001b[1;33m(\u001b[0m\u001b[0mself\u001b[0m\u001b[1;33m,\u001b[0m \u001b[0mname\u001b[0m\u001b[1;33m,\u001b[0m \u001b[0mrequest\u001b[0m\u001b[1;33m,\u001b[0m \u001b[0mtarget\u001b[0m\u001b[1;33m=\u001b[0m\u001b[1;32mNone\u001b[0m\u001b[1;33m)\u001b[0m\u001b[1;33m:\u001b[0m\u001b[1;33m\u001b[0m\u001b[1;33m\u001b[0m\u001b[0m\n\u001b[1;32m--> 348\u001b[1;33m         \u001b[0mresult\u001b[0m \u001b[1;33m=\u001b[0m \u001b[0mself\u001b[0m\u001b[1;33m.\u001b[0m\u001b[0m_api\u001b[0m\u001b[1;33m(\u001b[0m\u001b[1;34m\"%s/resources/%s\"\u001b[0m \u001b[1;33m%\u001b[0m \u001b[1;33m(\u001b[0m\u001b[0mself\u001b[0m\u001b[1;33m.\u001b[0m\u001b[0murl\u001b[0m\u001b[1;33m,\u001b[0m \u001b[0mname\u001b[0m\u001b[1;33m)\u001b[0m\u001b[1;33m,\u001b[0m \u001b[0mrequest\u001b[0m\u001b[1;33m,\u001b[0m \u001b[1;34m\"POST\"\u001b[0m\u001b[1;33m)\u001b[0m\u001b[1;33m\u001b[0m\u001b[1;33m\u001b[0m\u001b[0m\n\u001b[0m\u001b[0;32m    349\u001b[0m         \u001b[1;32mif\u001b[0m \u001b[0mtarget\u001b[0m \u001b[1;32mis\u001b[0m \u001b[1;32mnot\u001b[0m \u001b[1;32mNone\u001b[0m\u001b[1;33m:\u001b[0m\u001b[1;33m\u001b[0m\u001b[1;33m\u001b[0m\u001b[0m\n\u001b[0;32m    350\u001b[0m             \u001b[0mresult\u001b[0m\u001b[1;33m.\u001b[0m\u001b[0mdownload\u001b[0m\u001b[1;33m(\u001b[0m\u001b[0mtarget\u001b[0m\u001b[1;33m)\u001b[0m\u001b[1;33m\u001b[0m\u001b[1;33m\u001b[0m\u001b[0m\n",
      "\u001b[1;32m~\\Anaconda3\\lib\\site-packages\\cdsapi\\api.py\u001b[0m in \u001b[0;36m_api\u001b[1;34m(self, url, request, method)\u001b[0m\n\u001b[0;32m    477\u001b[0m \u001b[1;33m\u001b[0m\u001b[0m\n\u001b[0;32m    478\u001b[0m                 \u001b[0mself\u001b[0m\u001b[1;33m.\u001b[0m\u001b[0mdebug\u001b[0m\u001b[1;33m(\u001b[0m\u001b[1;34m\"Request ID is %s, sleep %s\"\u001b[0m\u001b[1;33m,\u001b[0m \u001b[0mrid\u001b[0m\u001b[1;33m,\u001b[0m \u001b[0msleep\u001b[0m\u001b[1;33m)\u001b[0m\u001b[1;33m\u001b[0m\u001b[1;33m\u001b[0m\u001b[0m\n\u001b[1;32m--> 479\u001b[1;33m                 \u001b[0mtime\u001b[0m\u001b[1;33m.\u001b[0m\u001b[0msleep\u001b[0m\u001b[1;33m(\u001b[0m\u001b[0msleep\u001b[0m\u001b[1;33m)\u001b[0m\u001b[1;33m\u001b[0m\u001b[1;33m\u001b[0m\u001b[0m\n\u001b[0m\u001b[0;32m    480\u001b[0m                 \u001b[0msleep\u001b[0m \u001b[1;33m*=\u001b[0m \u001b[1;36m1.5\u001b[0m\u001b[1;33m\u001b[0m\u001b[1;33m\u001b[0m\u001b[0m\n\u001b[0;32m    481\u001b[0m                 \u001b[1;32mif\u001b[0m \u001b[0msleep\u001b[0m \u001b[1;33m>\u001b[0m \u001b[0mself\u001b[0m\u001b[1;33m.\u001b[0m\u001b[0msleep_max\u001b[0m\u001b[1;33m:\u001b[0m\u001b[1;33m\u001b[0m\u001b[1;33m\u001b[0m\u001b[0m\n",
      "\u001b[1;31mKeyboardInterrupt\u001b[0m: "
     ]
    }
   ],
   "source": [
    "for idx, year in enumerate(years):\n",
    "    print(year)\n",
    "    for location in locations:\n",
    "        latitude = locations[location]['latitude']\n",
    "        longitude = locations[location]['longitude']\n",
    "        file = locations[location]['files'][idx]\n",
    "        \n",
    "        print(f\"Location: {location}  Lat: {latitude}  Long: {longitude}\\nFile: {file}\")\n",
    "        \n",
    "        file_location = get_weather_data(\n",
    "            year,\n",
    "            # NB: Single digits days or months must have 0s in front or that will cause an error\n",
    "            day   = ['01', '02', '03','04', '05', '06','07', '08', '09','10', '11', '12','13', '14', '15','16', '17', '18','19', '20', '21','22', '23', '24','25', '26', '27','28', '29', '30','31'],\n",
    "            month = ['01', '02', '03', '04', '05', '06','07', '08', '09','10', '11', '12'], #. \n",
    "            weather_vars = ['2m_temperature', 'total_precipitation', '10m_v_component_of_wind', '10m_u_component_of_wind', 'surface_pressure'], # Frist version\n",
    "\n",
    "            # The ERA5 accept rectangular shape grid as a searching areas\n",
    "            # but we can use also input a point with this system:ß\n",
    "            area  = latitude +'/'+ longitude +'/'+ latitude +'/'+ longitude,\n",
    "            # We can request all 24 hours of the day. The only accepted format are listed here:\n",
    "            time  = ['00:00', '01:00', '02:00', '03:00', '04:00', '05:00',\n",
    "                     '06:00', '07:00', '08:00', '09:00', '10:00', '11:00',\n",
    "                     '12:00', '13:00', '14:00', '15:00', '16:00', '17:00',\n",
    "                     '18:00', '19:00', '20:00', '21:00', '22:00', '23:00'],\n",
    "            file_location = file\n",
    "        )"
   ]
  },
  {
   "cell_type": "code",
   "execution_count": null,
   "id": "082d40b1",
   "metadata": {},
   "outputs": [],
   "source": []
  },
  {
   "cell_type": "code",
   "execution_count": null,
   "id": "4df296f0",
   "metadata": {},
   "outputs": [],
   "source": []
  }
 ],
 "metadata": {
  "kernelspec": {
   "display_name": "Python 3",
   "language": "python",
   "name": "python3"
  },
  "language_info": {
   "codemirror_mode": {
    "name": "ipython",
    "version": 3
   },
   "file_extension": ".py",
   "mimetype": "text/x-python",
   "name": "python",
   "nbconvert_exporter": "python",
   "pygments_lexer": "ipython3",
   "version": "3.8.8"
  }
 },
 "nbformat": 4,
 "nbformat_minor": 5
}
